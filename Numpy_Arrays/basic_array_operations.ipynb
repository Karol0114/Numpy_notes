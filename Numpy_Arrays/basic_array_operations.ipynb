{
 "cells": [
  {
   "cell_type": "code",
   "execution_count": 4,
   "id": "77ee336b",
   "metadata": {},
   "outputs": [],
   "source": [
    "import numpy as np"
   ]
  },
  {
   "cell_type": "code",
   "execution_count": 5,
   "id": "2de08a26",
   "metadata": {},
   "outputs": [
    {
     "name": "stdout",
     "output_type": "stream",
     "text": [
      "[3 1 4 2]\n",
      "[ 3 -1  3  2]\n"
     ]
    }
   ],
   "source": [
    "A = np.array([3, 1, 4, 2])\n",
    "B = np.array([3, -1, 3, 2])\n",
    "print(A)\n",
    "print(B)"
   ]
  },
  {
   "cell_type": "code",
   "execution_count": 9,
   "id": "c52d62c5",
   "metadata": {},
   "outputs": [
    {
     "name": "stdout",
     "output_type": "stream",
     "text": [
      "[6 0 7 4]\n",
      "[0 2 1 0]\n",
      "[ 9 -1 12  4]\n",
      "[ 1.         -1.          1.33333333  1.        ]\n"
     ]
    }
   ],
   "source": [
    "# Podstawowe działania arytmetyczne:\n",
    "print(A + B)\n",
    "print(A - B)\n",
    "print(A * B)\n",
    "print(A / B)"
   ]
  },
  {
   "cell_type": "code",
   "execution_count": 11,
   "id": "c720b677",
   "metadata": {},
   "outputs": [
    {
     "data": {
      "text/plain": [
       "array([6, 2, 8, 4])"
      ]
     },
     "execution_count": 11,
     "metadata": {},
     "output_type": "execute_result"
    }
   ],
   "source": [
    "# Można wykonać operację arytmetyczną za pomocą stałej do każdego elementu tablicy\n",
    "A + 3\n",
    "2 * A"
   ]
  },
  {
   "cell_type": "code",
   "execution_count": 14,
   "id": "9c4b328b",
   "metadata": {},
   "outputs": [
    {
     "data": {
      "text/plain": [
       "array([ 1.        , -1.        ,  1.33333333,  1.        ])"
      ]
     },
     "execution_count": 14,
     "metadata": {},
     "output_type": "execute_result"
    }
   ],
   "source": [
    "# Biblioteka numpy posiada metody wbudowane do działań arytmetycznych\n",
    "np.add(A, B)\n",
    "np.subtract(A, B)\n",
    "np.multiply(A, B)\n",
    "np.divide(A, B)\n"
   ]
  },
  {
   "cell_type": "code",
   "execution_count": 16,
   "id": "1526db37",
   "metadata": {},
   "outputs": [
    {
     "name": "stdout",
     "output_type": "stream",
     "text": [
      "[[ 1  3]\n",
      " [-2  0]]\n",
      "[[ 6  0]\n",
      " [-1  2]]\n"
     ]
    }
   ],
   "source": [
    "# Mnożenie macierzowe:\n",
    "\n",
    "X = np.array([[1,3], [-2,0]])\n",
    "Y = np.array([[6,0], [-1,2]])\n",
    "print(X)\n",
    "print(Y)"
   ]
  },
  {
   "cell_type": "code",
   "execution_count": 17,
   "id": "a16bf3ec",
   "metadata": {},
   "outputs": [
    {
     "data": {
      "text/plain": [
       "array([[  3,   6],\n",
       "       [-12,   0]])"
      ]
     },
     "execution_count": 17,
     "metadata": {},
     "output_type": "execute_result"
    }
   ],
   "source": [
    "# Do wykonania mnożenia macierzowego służy metoda np.dot\n",
    "\n",
    "np.dot(X, Y)"
   ]
  },
  {
   "cell_type": "code",
   "execution_count": 18,
   "id": "10abde6b",
   "metadata": {},
   "outputs": [
    {
     "data": {
      "text/plain": [
       "array([[  3,   6],\n",
       "       [-12,   0]])"
      ]
     },
     "execution_count": 18,
     "metadata": {},
     "output_type": "execute_result"
    }
   ],
   "source": [
    "# Lub zamiast np.dot można uzyć @\n",
    "\n",
    "X @ Y"
   ]
  },
  {
   "cell_type": "code",
   "execution_count": null,
   "id": "d30ae33c",
   "metadata": {},
   "outputs": [],
   "source": []
  }
 ],
 "metadata": {
  "kernelspec": {
   "display_name": "Python 3 (ipykernel)",
   "language": "python",
   "name": "python3"
  },
  "language_info": {
   "codemirror_mode": {
    "name": "ipython",
    "version": 3
   },
   "file_extension": ".py",
   "mimetype": "text/x-python",
   "name": "python",
   "nbconvert_exporter": "python",
   "pygments_lexer": "ipython3",
   "version": "3.9.13"
  }
 },
 "nbformat": 4,
 "nbformat_minor": 5
}
