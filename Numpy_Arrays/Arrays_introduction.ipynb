{
 "cells": [
  {
   "cell_type": "code",
   "execution_count": 1,
   "id": "1072596b",
   "metadata": {},
   "outputs": [],
   "source": [
    "import numpy as np"
   ]
  },
  {
   "cell_type": "code",
   "execution_count": 4,
   "id": "81ec0826",
   "metadata": {},
   "outputs": [],
   "source": [
    "#help(np.array)"
   ]
  },
  {
   "cell_type": "code",
   "execution_count": 7,
   "id": "8d817162",
   "metadata": {},
   "outputs": [
    {
     "name": "stdout",
     "output_type": "stream",
     "text": [
      "[1 3]\n"
     ]
    },
    {
     "data": {
      "text/plain": [
       "numpy.ndarray"
      ]
     },
     "execution_count": 7,
     "metadata": {},
     "output_type": "execute_result"
    }
   ],
   "source": [
    "# Stworzenie prostej tablicy jednowymiarowej (wektor)\n",
    "x = np.array([1,3])\n",
    "print(x)\n",
    "type(x)"
   ]
  },
  {
   "cell_type": "code",
   "execution_count": 12,
   "id": "5f6b7a73",
   "metadata": {},
   "outputs": [
    {
     "name": "stdout",
     "output_type": "stream",
     "text": [
      "1\n",
      "(2,)\n",
      "2\n",
      "int32\n"
     ]
    }
   ],
   "source": [
    "#Atrybuty ndarray:\n",
    "\n",
    "#Wymiar tablicy\n",
    "print(x.ndim)\n",
    "\n",
    "#Kształt tablicy\n",
    "print(x.shape)\n",
    "\n",
    "#Liczba elementów w tablicy\n",
    "print(x.size)\n",
    "\n",
    "#Typ danych\n",
    "print(x.dtype)"
   ]
  },
  {
   "cell_type": "code",
   "execution_count": 15,
   "id": "42fb51fd",
   "metadata": {},
   "outputs": [
    {
     "name": "stdout",
     "output_type": "stream",
     "text": [
      "[[ 1  2]\n",
      " [-3  1]]\n"
     ]
    }
   ],
   "source": [
    "# Stworzenie tablicy dwuwymiarowej:\n",
    "\n",
    "y = np.array([[1,2], [-3,1]])\n",
    "print(y)"
   ]
  },
  {
   "cell_type": "code",
   "execution_count": 16,
   "id": "3b1aaa03",
   "metadata": {},
   "outputs": [
    {
     "name": "stdout",
     "output_type": "stream",
     "text": [
      "2\n",
      "(2, 2)\n",
      "4\n",
      "int32\n"
     ]
    }
   ],
   "source": [
    "#Wymiar tablicy\n",
    "print(y.ndim)\n",
    "\n",
    "#Kształt tablicy\n",
    "print(y.shape)\n",
    "\n",
    "#Liczba elementów w tablicy\n",
    "print(y.size)\n",
    "\n",
    "#Typ danych\n",
    "print(y.dtype)"
   ]
  },
  {
   "cell_type": "code",
   "execution_count": 18,
   "id": "1c281dbd",
   "metadata": {},
   "outputs": [
    {
     "name": "stdout",
     "output_type": "stream",
     "text": [
      "[[1 2 4]\n",
      " [4 2 1]]\n"
     ]
    }
   ],
   "source": [
    "# tablica dwuwymiarowa o innym kształcie:\n",
    "\n",
    "z = np.array([[1,2,4], [4,2,1]])\n",
    "print(z)"
   ]
  },
  {
   "cell_type": "code",
   "execution_count": 20,
   "id": "c933fc92",
   "metadata": {},
   "outputs": [
    {
     "data": {
      "text/plain": [
       "(2, 3)"
      ]
     },
     "execution_count": 20,
     "metadata": {},
     "output_type": "execute_result"
    }
   ],
   "source": [
    "#Sprwdzamy kształt tablicy\n",
    "z.shape"
   ]
  },
  {
   "cell_type": "code",
   "execution_count": 21,
   "id": "35128a3b",
   "metadata": {},
   "outputs": [
    {
     "name": "stdout",
     "output_type": "stream",
     "text": [
      "[[[4 3 1]\n",
      "  [3 1 2]]\n",
      "\n",
      " [[4 1 3]\n",
      "  [4 2 1]]]\n"
     ]
    }
   ],
   "source": [
    "#Tabice trójwymiarowe:\n",
    "\n",
    "a = np.array(\n",
    "    [[[4,3,1],\n",
    "     [3, 1,2]],\n",
    "     \n",
    "     [[4,1,3],\n",
    "     [4,2,1]]]\n",
    ")\n",
    "print(a)"
   ]
  },
  {
   "cell_type": "code",
   "execution_count": 23,
   "id": "369c6bd8",
   "metadata": {},
   "outputs": [
    {
     "name": "stdout",
     "output_type": "stream",
     "text": [
      "(2, 2, 3)\n"
     ]
    }
   ],
   "source": [
    "print(a.shape)\n",
    "\n",
    "# 2 tablice, 2 wiersze i 3 kolumny"
   ]
  },
  {
   "cell_type": "code",
   "execution_count": null,
   "id": "2ae9e8f9",
   "metadata": {},
   "outputs": [],
   "source": []
  }
 ],
 "metadata": {
  "kernelspec": {
   "display_name": "Python 3 (ipykernel)",
   "language": "python",
   "name": "python3"
  },
  "language_info": {
   "codemirror_mode": {
    "name": "ipython",
    "version": 3
   },
   "file_extension": ".py",
   "mimetype": "text/x-python",
   "name": "python",
   "nbconvert_exporter": "python",
   "pygments_lexer": "ipython3",
   "version": "3.9.13"
  }
 },
 "nbformat": 4,
 "nbformat_minor": 5
}
