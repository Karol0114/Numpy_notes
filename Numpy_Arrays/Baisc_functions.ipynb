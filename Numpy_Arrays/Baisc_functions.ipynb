{
 "cells": [
  {
   "cell_type": "code",
   "execution_count": 1,
   "id": "c041ebe3",
   "metadata": {},
   "outputs": [],
   "source": [
    "import numpy as np"
   ]
  },
  {
   "cell_type": "code",
   "execution_count": 3,
   "id": "0c841f76",
   "metadata": {},
   "outputs": [
    {
     "data": {
      "text/plain": [
       "2.718281828459045"
      ]
     },
     "execution_count": 3,
     "metadata": {},
     "output_type": "execute_result"
    }
   ],
   "source": [
    "np.exp(1)"
   ]
  },
  {
   "cell_type": "code",
   "execution_count": 4,
   "id": "b8587f49",
   "metadata": {},
   "outputs": [
    {
     "data": {
      "text/plain": [
       "3.0"
      ]
     },
     "execution_count": 4,
     "metadata": {},
     "output_type": "execute_result"
    }
   ],
   "source": [
    "np.sqrt(9)"
   ]
  },
  {
   "cell_type": "code",
   "execution_count": 5,
   "id": "82b06839",
   "metadata": {},
   "outputs": [
    {
     "data": {
      "text/plain": [
       "True"
      ]
     },
     "execution_count": 5,
     "metadata": {},
     "output_type": "execute_result"
    }
   ],
   "source": [
    "np.all([2, 3, 1])\n",
    "# jeżeli wszystko jest prawdą w liście/tablicy to zwraca true, jeżeli napotka na jednego False to False"
   ]
  },
  {
   "cell_type": "code",
   "execution_count": 6,
   "id": "0c813be5",
   "metadata": {},
   "outputs": [
    {
     "data": {
      "text/plain": [
       "False"
      ]
     },
     "execution_count": 6,
     "metadata": {},
     "output_type": "execute_result"
    }
   ],
   "source": [
    "np.all([2,3,0])"
   ]
  },
  {
   "cell_type": "code",
   "execution_count": 7,
   "id": "3e5f7a38",
   "metadata": {},
   "outputs": [
    {
     "data": {
      "text/plain": [
       "True"
      ]
     },
     "execution_count": 7,
     "metadata": {},
     "output_type": "execute_result"
    }
   ],
   "source": [
    "np.any([1,2,1])\n",
    "# Funkcja sprawdza czy obiekt zawiera chociaż jedną prawdę"
   ]
  },
  {
   "cell_type": "code",
   "execution_count": 11,
   "id": "cc4f9841",
   "metadata": {},
   "outputs": [
    {
     "data": {
      "text/plain": [
       "array([0.00338676, 0.2156201 , 0.89949904, 0.16623729, 0.25506197])"
      ]
     },
     "execution_count": 11,
     "metadata": {},
     "output_type": "execute_result"
    }
   ],
   "source": [
    "A = np.random.rand(5)\n",
    "A"
   ]
  },
  {
   "cell_type": "code",
   "execution_count": 13,
   "id": "21582374",
   "metadata": {},
   "outputs": [
    {
     "data": {
      "text/plain": [
       "2"
      ]
     },
     "execution_count": 13,
     "metadata": {},
     "output_type": "execute_result"
    }
   ],
   "source": [
    "# Funckja zwraca index największej wartości\n",
    "np.argmax(A)"
   ]
  },
  {
   "cell_type": "code",
   "execution_count": 14,
   "id": "c5d6da6e",
   "metadata": {},
   "outputs": [
    {
     "data": {
      "text/plain": [
       "0.8994990437185669"
      ]
     },
     "execution_count": 14,
     "metadata": {},
     "output_type": "execute_result"
    }
   ],
   "source": [
    "# Wycinanie największej wartości\n",
    "A[np.argmax(A)]"
   ]
  },
  {
   "cell_type": "code",
   "execution_count": 15,
   "id": "7170f007",
   "metadata": {},
   "outputs": [
    {
     "data": {
      "text/plain": [
       "0"
      ]
     },
     "execution_count": 15,
     "metadata": {},
     "output_type": "execute_result"
    }
   ],
   "source": [
    "# Przeciwna funkcja argmin\n",
    "np.argmin(A)"
   ]
  },
  {
   "cell_type": "code",
   "execution_count": 16,
   "id": "5960cad7",
   "metadata": {},
   "outputs": [
    {
     "data": {
      "text/plain": [
       "array([0, 3, 1, 4, 2], dtype=int64)"
      ]
     },
     "execution_count": 16,
     "metadata": {},
     "output_type": "execute_result"
    }
   ],
   "source": [
    "# Sortowanie danych po indeksie\n",
    "\n",
    "np.argsort(A)"
   ]
  },
  {
   "cell_type": "code",
   "execution_count": 17,
   "id": "0f7bcea5",
   "metadata": {},
   "outputs": [
    {
     "data": {
      "text/plain": [
       "0.8994990437185669"
      ]
     },
     "execution_count": 17,
     "metadata": {},
     "output_type": "execute_result"
    }
   ],
   "source": [
    "# Maksimum\n",
    "np.max(A)"
   ]
  },
  {
   "cell_type": "code",
   "execution_count": 18,
   "id": "27c2b563",
   "metadata": {},
   "outputs": [
    {
     "data": {
      "text/plain": [
       "0.003386759574662168"
      ]
     },
     "execution_count": 18,
     "metadata": {},
     "output_type": "execute_result"
    }
   ],
   "source": [
    "#Minimum\n",
    "np.min(A)"
   ]
  },
  {
   "cell_type": "code",
   "execution_count": 19,
   "id": "c9362274",
   "metadata": {},
   "outputs": [
    {
     "data": {
      "text/plain": [
       "0.3079610326047339"
      ]
     },
     "execution_count": 19,
     "metadata": {},
     "output_type": "execute_result"
    }
   ],
   "source": [
    "# Srednia\n",
    "np.mean(A)"
   ]
  },
  {
   "cell_type": "code",
   "execution_count": 20,
   "id": "4f893a81",
   "metadata": {},
   "outputs": [
    {
     "data": {
      "text/plain": [
       "0.21562010463364423"
      ]
     },
     "execution_count": 20,
     "metadata": {},
     "output_type": "execute_result"
    }
   ],
   "source": [
    "# Mediana\n",
    "np.median(A)"
   ]
  },
  {
   "cell_type": "code",
   "execution_count": 23,
   "id": "a4a00d06",
   "metadata": {},
   "outputs": [
    {
     "data": {
      "text/plain": [
       "0.30792644704481376"
      ]
     },
     "execution_count": 23,
     "metadata": {},
     "output_type": "execute_result"
    }
   ],
   "source": [
    "#Odchylenie standardowe\n",
    "np.std(A)"
   ]
  },
  {
   "cell_type": "code",
   "execution_count": null,
   "id": "b1effd7c",
   "metadata": {},
   "outputs": [],
   "source": []
  }
 ],
 "metadata": {
  "kernelspec": {
   "display_name": "Python 3 (ipykernel)",
   "language": "python",
   "name": "python3"
  },
  "language_info": {
   "codemirror_mode": {
    "name": "ipython",
    "version": 3
   },
   "file_extension": ".py",
   "mimetype": "text/x-python",
   "name": "python",
   "nbconvert_exporter": "python",
   "pygments_lexer": "ipython3",
   "version": "3.9.13"
  }
 },
 "nbformat": 4,
 "nbformat_minor": 5
}
