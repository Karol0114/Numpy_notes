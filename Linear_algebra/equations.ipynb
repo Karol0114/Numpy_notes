{
 "cells": [
  {
   "cell_type": "code",
   "execution_count": 1,
   "id": "b42b61d5",
   "metadata": {},
   "outputs": [],
   "source": [
    "import numpy as np"
   ]
  },
  {
   "cell_type": "code",
   "execution_count": 2,
   "id": "2df53bed",
   "metadata": {},
   "outputs": [],
   "source": [
    "#Rozwiązujemy układ równań:\n",
    "# { 2x + 4y = 10\n",
    "# { x - y = -1\n",
    "\n",
    "#Macierz współczynników:\n",
    "A = np.array([[2, 4], [1, -1]])\n"
   ]
  },
  {
   "cell_type": "code",
   "execution_count": 3,
   "id": "4a170a89",
   "metadata": {},
   "outputs": [],
   "source": [
    "# Wektor wyrazów wolnych:\n",
    "B = np.array([[10], [-1]])"
   ]
  },
  {
   "cell_type": "code",
   "execution_count": 4,
   "id": "e276372e",
   "metadata": {},
   "outputs": [
    {
     "data": {
      "text/plain": [
       "array([[1.],\n",
       "       [2.]])"
      ]
     },
     "execution_count": 4,
     "metadata": {},
     "output_type": "execute_result"
    }
   ],
   "source": [
    "A_inv = np.linalg.inv(A)\n",
    "X = np.dot(A_inv, B)\n",
    "X"
   ]
  },
  {
   "cell_type": "code",
   "execution_count": null,
   "id": "ba433e08",
   "metadata": {},
   "outputs": [],
   "source": []
  }
 ],
 "metadata": {
  "kernelspec": {
   "display_name": "Python 3 (ipykernel)",
   "language": "python",
   "name": "python3"
  },
  "language_info": {
   "codemirror_mode": {
    "name": "ipython",
    "version": 3
   },
   "file_extension": ".py",
   "mimetype": "text/x-python",
   "name": "python",
   "nbconvert_exporter": "python",
   "pygments_lexer": "ipython3",
   "version": "3.9.13"
  }
 },
 "nbformat": 4,
 "nbformat_minor": 5
}
