{
 "cells": [
  {
   "cell_type": "code",
   "execution_count": 1,
   "id": "33d335e3",
   "metadata": {},
   "outputs": [],
   "source": [
    "import numpy as np"
   ]
  },
  {
   "cell_type": "code",
   "execution_count": 2,
   "id": "8a319c34",
   "metadata": {},
   "outputs": [
    {
     "data": {
      "text/plain": [
       "array([0, 4])"
      ]
     },
     "execution_count": 2,
     "metadata": {},
     "output_type": "execute_result"
    }
   ],
   "source": [
    "# Definujemy wektor\n",
    "\n",
    "v1 = np.array([0, 4])\n",
    "v1"
   ]
  },
  {
   "cell_type": "code",
   "execution_count": 5,
   "id": "f1f72b4e",
   "metadata": {},
   "outputs": [
    {
     "data": {
      "text/plain": [
       "4.0"
      ]
     },
     "execution_count": 5,
     "metadata": {},
     "output_type": "execute_result"
    }
   ],
   "source": [
    "# Norma wektora w R ** 2 (Odległość euklidesowa od środka układu współżędnych):\n",
    "# Pierwiastek z sumy kwadratów współrzędnych wektora\n",
    "\n",
    "np.linalg.norm(v1)"
   ]
  },
  {
   "cell_type": "code",
   "execution_count": 7,
   "id": "f092383b",
   "metadata": {},
   "outputs": [
    {
     "data": {
      "text/plain": [
       "19.209372712298546"
      ]
     },
     "execution_count": 7,
     "metadata": {},
     "output_type": "execute_result"
    }
   ],
   "source": [
    "# Norma wektora w R ** n\n",
    "v2 = np.array([-10, 10, 13])\n",
    "    \n",
    "np.linalg.norm(v2)"
   ]
  },
  {
   "cell_type": "code",
   "execution_count": 8,
   "id": "47b363b3",
   "metadata": {},
   "outputs": [],
   "source": [
    "# Odległość dwóch punktow w przestrzeni R ** n\n",
    "# Suma kwadratow różnic pod pierwiastkiem\n",
    "\n",
    "#Definujemy dwa punkty:\n",
    "p = np.array([3, 0])\n",
    "q = np.array([0,4])"
   ]
  },
  {
   "cell_type": "code",
   "execution_count": 9,
   "id": "95dfe8a6",
   "metadata": {},
   "outputs": [
    {
     "data": {
      "text/plain": [
       "5.0"
      ]
     },
     "execution_count": 9,
     "metadata": {},
     "output_type": "execute_result"
    }
   ],
   "source": [
    "np.linalg.norm(p - q)"
   ]
  },
  {
   "cell_type": "code",
   "execution_count": 10,
   "id": "89cc89e6",
   "metadata": {},
   "outputs": [
    {
     "data": {
      "text/plain": [
       "5.0990195135927845"
      ]
     },
     "execution_count": 10,
     "metadata": {},
     "output_type": "execute_result"
    }
   ],
   "source": [
    "# Przykład w przestrzeni R ** 3\n",
    "p1 = np.array([3,0,1])\n",
    "q1 = np.array([0,4,2])\n",
    "np.linalg.norm(p1 - q1)"
   ]
  },
  {
   "cell_type": "code",
   "execution_count": null,
   "id": "a22e1ae9",
   "metadata": {},
   "outputs": [],
   "source": []
  }
 ],
 "metadata": {
  "kernelspec": {
   "display_name": "Python 3 (ipykernel)",
   "language": "python",
   "name": "python3"
  },
  "language_info": {
   "codemirror_mode": {
    "name": "ipython",
    "version": 3
   },
   "file_extension": ".py",
   "mimetype": "text/x-python",
   "name": "python",
   "nbconvert_exporter": "python",
   "pygments_lexer": "ipython3",
   "version": "3.9.13"
  }
 },
 "nbformat": 4,
 "nbformat_minor": 5
}
